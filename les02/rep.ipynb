{
  "nbformat": 4,
  "nbformat_minor": 0,
  "metadata": {
    "colab": {
      "provenance": [],
      "authorship_tag": "ABX9TyOEu+A7k5hgLVy8X5fU68BV",
      "include_colab_link": true
    },
    "kernelspec": {
      "name": "python3",
      "display_name": "Python 3"
    },
    "language_info": {
      "name": "python"
    }
  },
  "cells": [
    {
      "cell_type": "markdown",
      "metadata": {
        "id": "view-in-github",
        "colab_type": "text"
      },
      "source": [
        "<a href=\"https://colab.research.google.com/github/BogdanType/dap-2024/blob/main/rep.ipynb\" target=\"_parent\"><img src=\"https://colab.research.google.com/assets/colab-badge.svg\" alt=\"Open In Colab\"/></a>"
      ]
    },
    {
      "cell_type": "markdown",
      "source": [
        "#Отчет о выполненной работе (лаб.2)\n",
        "##Задание\n",
        "\n",
        "Выполните следующие задания:\n",
        "\n",
        "\n",
        "1. Откройте в файл в Google Colab (используйте собственный форк репозитория).\n",
        "2. Решите задачи.\n",
        "3. Cохраните результат в ваш репозиторий github в директорию ./les02\n",
        "4. Создайте pull request в репозиторий https://github.com/chebotarevsa/dap-2024. Название pull request должно иметь формат \"<Номер лабораторной работы> <Номер группы> <ФИО>\"\n",
        "5. Сдайте работу в системе \"Пегас\", в отчет укажите ссылку на pull request\n",
        "\n",
        "Задача №1. https://leetcode.com/problems/two-sum/"
      ],
      "metadata": {
        "id": "jaD0AMXwhijZ"
      }
    },
    {
      "cell_type": "code",
      "source": [
        "class Solution:\n",
        "    def twoSum(self, nums, target):\n",
        "        hashmap = {}\n",
        "        for i, num in enumerate(nums):\n",
        "            complement = target - num\n",
        "            if complement in hashmap:\n",
        "                return [hashmap[complement], i]\n",
        "            hashmap[num] = i\n",
        "numsL = [2,3,7,9]\n",
        "targetL = 9\n",
        "sol = Solution()\n",
        "print (sol.twoSum(numsL, targetL))\n"
      ],
      "metadata": {
        "colab": {
          "base_uri": "https://localhost:8080/"
        },
        "id": "88osC3vyzjR1",
        "outputId": "61e0221f-91ae-4b6c-afe9-db140c5bcbd3"
      },
      "execution_count": null,
      "outputs": [
        {
          "output_type": "stream",
          "name": "stdout",
          "text": [
            "[0, 2]\n"
          ]
        }
      ]
    },
    {
      "cell_type": "markdown",
      "source": [
        "Задача №2. https://leetcode.com/problems/palindrome-number/description/"
      ],
      "metadata": {
        "id": "lNAdQ6UHnmbQ"
      }
    },
    {
      "cell_type": "code",
      "source": [
        "class Solution:\n",
        "    def isPalindrome(self, x):\n",
        "        if x < 0 or (x % 10 == 0 and x != 0):\n",
        "            return False\n",
        "\n",
        "        reversed_half = 0\n",
        "        while x > reversed_half:\n",
        "            reversed_half = reversed_half * 10 + x % 10\n",
        "            x //= 10\n",
        "\n",
        "        return x == reversed_half or x == reversed_half // 10\n",
        "\n",
        "pol = 10101\n",
        "nePol = -101\n",
        "nePol1 = 12\n",
        "\n",
        "sol = Solution()\n",
        "print(sol.isPalindrome(pol))\n",
        "print(sol.isPalindrome(nePol))\n",
        "print(sol.isPalindrome(nePol1))"
      ],
      "metadata": {
        "colab": {
          "base_uri": "https://localhost:8080/"
        },
        "id": "lHt0-Tz-0rW9",
        "outputId": "f30617e9-b3f4-4b8f-e561-c3397d09c009"
      },
      "execution_count": null,
      "outputs": [
        {
          "output_type": "stream",
          "name": "stdout",
          "text": [
            "True\n",
            "False\n",
            "False\n"
          ]
        }
      ]
    },
    {
      "cell_type": "markdown",
      "source": [
        "Задача №3. https://leetcode.com/problems/roman-to-integer/description/"
      ],
      "metadata": {
        "id": "PqHdpeAYno4z"
      }
    },
    {
      "cell_type": "code",
      "source": [
        "class Solution(object):\n",
        "    def romanToInt(self, s):\n",
        "        roman_values = {\n",
        "            'I': 1, 'V': 5, 'X': 10, 'L': 50,\n",
        "            'C': 100, 'D': 500, 'M': 1000\n",
        "        }\n",
        "\n",
        "        total = 0\n",
        "        prev_value = 0\n",
        "\n",
        "        for char in reversed(s):\n",
        "            current_value = roman_values[char]\n",
        "\n",
        "            if current_value < prev_value:\n",
        "                total -= current_value\n",
        "            else:\n",
        "                total += current_value\n",
        "\n",
        "            prev_value = current_value\n",
        "\n",
        "        return total\n",
        "\n",
        "sol = Solution()\n",
        "input = \"IX\"\n",
        "print(sol.romanToInt(input))"
      ],
      "metadata": {
        "id": "monxH5_i5_zi",
        "colab": {
          "base_uri": "https://localhost:8080/"
        },
        "outputId": "23076f12-2eb6-40ef-a240-0f3b9b952fb5"
      },
      "execution_count": 9,
      "outputs": [
        {
          "output_type": "stream",
          "name": "stdout",
          "text": [
            "9\n"
          ]
        }
      ]
    },
    {
      "cell_type": "markdown",
      "source": [
        "Задача №4. https://leetcode.com/problems/longest-common-prefix/description/"
      ],
      "metadata": {
        "id": "KZuFoD1AnsC8"
      }
    },
    {
      "cell_type": "code",
      "source": [
        "class Solution(object):\n",
        "    def longestCommonPrefix(self, strs):\n",
        "\n",
        "        if not strs:\n",
        "            return \"\"\n",
        "\n",
        "        prefix = strs[0]\n",
        "\n",
        "        for s in strs[1:]:\n",
        "\n",
        "            while not s.startswith(prefix):\n",
        "                prefix = prefix[:-1]\n",
        "\n",
        "                if not prefix:\n",
        "                    return \"\"\n",
        "\n",
        "        return prefix\n",
        "\n",
        "sol = Solution()\n",
        "strs = [\"flower\", \"flow\", \"flight\"]\n",
        "print(sol.longestCommonPrefix(strs))"
      ],
      "metadata": {
        "colab": {
          "base_uri": "https://localhost:8080/"
        },
        "id": "yh2VNnUf-JT9",
        "outputId": "cb291e21-149c-45a6-833a-7e9acf93e515"
      },
      "execution_count": 10,
      "outputs": [
        {
          "output_type": "stream",
          "name": "stdout",
          "text": [
            "fl\n"
          ]
        }
      ]
    },
    {
      "cell_type": "markdown",
      "source": [
        "Задача №5. https://leetcode.com/problems/merge-two-sorted-lists/description/"
      ],
      "metadata": {
        "id": "mNy6fRhznuyC"
      }
    },
    {
      "cell_type": "code",
      "source": [
        "class ListNode(object):\n",
        "    def __init__(self, val=0, next=None):\n",
        "        self.val = val\n",
        "        self.next = next\n",
        "\n",
        "class Solution(object):\n",
        "    def mergeTwoLists(self, list1, list2):\n",
        "        dummy = ListNode()\n",
        "        tail = dummy\n",
        "\n",
        "        while list1 and list2:\n",
        "            if list1.val <= list2.val:\n",
        "                tail.next = list1\n",
        "                list1 = list1.next\n",
        "            else:\n",
        "                tail.next = list2\n",
        "                list2 = list2.next\n",
        "\n",
        "            tail = tail.next\n",
        "\n",
        "        if list1:\n",
        "            tail.next = list1\n",
        "        elif list2:\n",
        "            tail.next = list2\n",
        "\n",
        "        return dummy.next"
      ],
      "metadata": {
        "id": "QNYZMv1EaaYp"
      },
      "execution_count": null,
      "outputs": []
    },
    {
      "cell_type": "markdown",
      "source": [
        "Задача №6. https://leetcode.com/problems/longest-substring-without-repeating-characters/description/"
      ],
      "metadata": {
        "id": "jqREtfemnvmu"
      }
    },
    {
      "cell_type": "code",
      "source": [
        "class Solution(object):\n",
        "    def lengthOfLongestSubstring(self, s):\n",
        "        seen = set()\n",
        "        left = 0\n",
        "        max_length = 0\n",
        "\n",
        "        for right in range(len(s)):\n",
        "            while s[right] in seen:\n",
        "                seen.remove(s[left])\n",
        "                left += 1\n",
        "            seen.add(s[right])\n",
        "            max_length = max(max_length, right - left + 1)\n",
        "\n",
        "        return max_length"
      ],
      "metadata": {
        "id": "z891dR-YjYhZ"
      },
      "execution_count": null,
      "outputs": []
    }
  ]
}
