{
  "nbformat": 4,
  "nbformat_minor": 0,
  "metadata": {
    "colab": {
      "provenance": [],
      "authorship_tag": "ABX9TyPHyoLhQe7WoW+r8ru2Mfq0",
      "include_colab_link": true
    },
    "kernelspec": {
      "name": "python3",
      "display_name": "Python 3"
    },
    "language_info": {
      "name": "python"
    }
  },
  "cells": [
    {
      "cell_type": "markdown",
      "metadata": {
        "id": "view-in-github",
        "colab_type": "text"
      },
      "source": [
        "<a href=\"https://colab.research.google.com/github/BogdanType/dap-2024/blob/main/rep.ipynb\" target=\"_parent\"><img src=\"https://colab.research.google.com/assets/colab-badge.svg\" alt=\"Open In Colab\"/></a>"
      ]
    },
    {
      "cell_type": "markdown",
      "source": [
        "#Отчет о выполненной работе (лаб.3)\n",
        "##Задание\n",
        "\n",
        "Выполните следующие задания:\n",
        "\n",
        "1. Откройте в файл в Google Colab (используйте собственный форк репозитория).\n",
        "2. Решите задачи.\n",
        "3. Сохраните результат в ваш репозиторий github в директорию ./les03\n",
        "4. Создайте pull request в репозиторий https://github.com/chebotarevsa/dap-2024. Название pull request должно иметь формат \"<Номер лабораторной работы> <Номер группы> <ФИО>\"\n",
        "5. Сдайте работу в системе \"Пегас\", в отчет укажите ссылку на pull request\n"
      ],
      "metadata": {
        "id": "RxcP5ceH_Peu"
      }
    },
    {
      "cell_type": "code",
      "source": [
        "import numpy as np\n",
        "np.version.version"
      ],
      "metadata": {
        "colab": {
          "base_uri": "https://localhost:8080/",
          "height": 35
        },
        "id": "fGv3_NGgAAdP",
        "outputId": "9dedf828-e252-4d20-a995-3c84998200d9"
      },
      "execution_count": 2,
      "outputs": [
        {
          "output_type": "execute_result",
          "data": {
            "text/plain": [
              "'1.26.4'"
            ],
            "application/vnd.google.colaboratory.intrinsic+json": {
              "type": "string"
            }
          },
          "metadata": {},
          "execution_count": 2
        }
      ]
    },
    {
      "cell_type": "markdown",
      "source": [
        "1. Создать массив 10x10 со случайными значениями, найти минимум и максимум (низкая)"
      ],
      "metadata": {
        "id": "WEXnxangAGC3"
      }
    },
    {
      "cell_type": "code",
      "source": [
        "import numpy as np\n",
        "array = np.random.randint(1, 100, (10, 10))\n",
        "print(\"\\nСозданный массив: \\n\\n\", array)\n",
        "print(\"\\nМинимальное значение:\", array.min())\n",
        "print(\"Максимальное значение:\", array.max())"
      ],
      "metadata": {
        "colab": {
          "base_uri": "https://localhost:8080/"
        },
        "id": "BNS08huuALMv",
        "outputId": "999c8ccc-0aff-4016-ef80-f4e3a43436c4"
      },
      "execution_count": 6,
      "outputs": [
        {
          "output_type": "stream",
          "name": "stdout",
          "text": [
            "\n",
            "Созданный массив: \n",
            "\n",
            " [[85 89 99 97 89 21 66 41 46 49]\n",
            " [35 41 31 15 14 38 64  3 83 90]\n",
            " [12 57 75 29 61  6 90 85 12 49]\n",
            " [64 19 39 88 38 30 50 36 47  2]\n",
            " [ 3 52 33  9 12 65 17 60 34 20]\n",
            " [26 39  7 17 48 33 98 30 86 50]\n",
            " [26 29 87 94 71  8 40 58 23 82]\n",
            " [60  1 24 57 92 57 29 62 34 78]\n",
            " [ 8 35 61 46 18 85 93 68 75  6]\n",
            " [86 72 40 66  1 27 44 69 17 15]]\n",
            "\n",
            "Минимальное значение: 1\n",
            "Максимальное значение: 99\n"
          ]
        }
      ]
    },
    {
      "cell_type": "markdown",
      "source": [
        "2. Создать 8x8 матрицу и заполнить её единицами и нулями в шахматном порядке"
      ],
      "metadata": {
        "id": "VinEITYUBBPm"
      }
    },
    {
      "cell_type": "code",
      "source": [
        "import numpy as np\n",
        "matrix = np.zeros((8,8))\n",
        "matrix[::2, 1::2] = 1\n",
        "matrix[1::2, ::2] = 1\n",
        "print(\"Матрица 8х8 в шахматном порядке: \\n\", matrix)"
      ],
      "metadata": {
        "colab": {
          "base_uri": "https://localhost:8080/"
        },
        "id": "WniInNuBBDli",
        "outputId": "96c5d074-9135-4fea-fb0e-f5255ab507aa"
      },
      "execution_count": 7,
      "outputs": [
        {
          "output_type": "stream",
          "name": "stdout",
          "text": [
            "Матрица 8х8 в шахматном порядке: \n",
            " [[0. 1. 0. 1. 0. 1. 0. 1.]\n",
            " [1. 0. 1. 0. 1. 0. 1. 0.]\n",
            " [0. 1. 0. 1. 0. 1. 0. 1.]\n",
            " [1. 0. 1. 0. 1. 0. 1. 0.]\n",
            " [0. 1. 0. 1. 0. 1. 0. 1.]\n",
            " [1. 0. 1. 0. 1. 0. 1. 0.]\n",
            " [0. 1. 0. 1. 0. 1. 0. 1.]\n",
            " [1. 0. 1. 0. 1. 0. 1. 0.]]\n"
          ]
        }
      ]
    },
    {
      "cell_type": "markdown",
      "source": [
        "3. Дан массив из 11 элементов, поменять знак у элементов, значения которых между 3 и 8"
      ],
      "metadata": {
        "id": "dC9KQV-3CCFS"
      }
    },
    {
      "cell_type": "code",
      "source": [
        "import numpy as np\n",
        "x = np.arange(11)\n",
        "print(\"Исходный массив:\\n\", x)\n",
        "x[(x > 3) & (x < 8)] *= -1\n",
        "print(\"\\nИзмененный массив:\\n\", x)"
      ],
      "metadata": {
        "colab": {
          "base_uri": "https://localhost:8080/"
        },
        "id": "tF8Du7OjCEia",
        "outputId": "2fe14ac8-06f0-4058-f6ca-865e07533643"
      },
      "execution_count": 11,
      "outputs": [
        {
          "output_type": "stream",
          "name": "stdout",
          "text": [
            "Исходный массив:\n",
            " [ 0  1  2  3  4  5  6  7  8  9 10]\n",
            "\n",
            "Измененный массив:\n",
            " [ 0  1  2  3 -4 -5 -6 -7  8  9 10]\n"
          ]
        }
      ]
    },
    {
      "cell_type": "markdown",
      "source": [
        "4. Найти среднее заначение строки матрицы и вычесть его из каждого елемента строки"
      ],
      "metadata": {
        "id": "PZ-rKrL3CtpJ"
      }
    },
    {
      "cell_type": "code",
      "source": [
        "import numpy as np\n",
        "z = np.random.rand(5, 10)\n",
        "print(\"Матрица: \\n\", z)\n",
        "means = np.mean(z, axis=1, keepdims=True)\n",
        "z[:, :9] -= means\n",
        "print(\"\\nСреднее значение:\\n\", means)\n",
        "print(\"\\nИзмененная матрица:\\n\", z)"
      ],
      "metadata": {
        "colab": {
          "base_uri": "https://localhost:8080/"
        },
        "id": "4btQccE3CwAq",
        "outputId": "1b377a36-bdcf-458a-adab-c0b2780eccb1"
      },
      "execution_count": 23,
      "outputs": [
        {
          "output_type": "stream",
          "name": "stdout",
          "text": [
            "Матрица: \n",
            " [[0.34495814 0.83727564 0.3235312  0.97878224 0.74341575 0.65115462\n",
            "  0.3644011  0.84078471 0.03900457 0.25469785]\n",
            " [0.49249687 0.42855589 0.34107987 0.34664327 0.44291776 0.66470474\n",
            "  0.60063353 0.24177101 0.95155017 0.40523528]\n",
            " [0.58731166 0.48874748 0.40454518 0.50535747 0.31651688 0.89041133\n",
            "  0.01131215 0.92231832 0.97684435 0.086347  ]\n",
            " [0.19534509 0.13844346 0.06825883 0.33626517 0.52722119 0.66227509\n",
            "  0.69185147 0.43540708 0.02414976 0.02385278]\n",
            " [0.75044046 0.76307598 0.33202835 0.30606908 0.54925737 0.57396406\n",
            "  0.29178898 0.73325456 0.2494987  0.78141059]]\n",
            "\n",
            "Среднее значение:\n",
            " [[0.53780058]\n",
            " [0.49155884]\n",
            " [0.51897118]\n",
            " [0.31030699]\n",
            " [0.53307881]]\n",
            "\n",
            "Измененная матрица:\n",
            " [[-0.19284245  0.29947506 -0.21426938  0.44098166  0.20561517  0.11335404\n",
            "  -0.17339948  0.30298412 -0.49879602  0.25469785]\n",
            " [ 0.00093803 -0.06300295 -0.15047897 -0.14491557 -0.04864108  0.1731459\n",
            "   0.10907469 -0.24978783  0.45999133  0.40523528]\n",
            " [ 0.06834048 -0.0302237  -0.114426   -0.01361371 -0.2024543   0.37144015\n",
            "  -0.50765903  0.40334714  0.45787317  0.086347  ]\n",
            " [-0.1149619  -0.17186353 -0.24204816  0.02595818  0.2169142   0.3519681\n",
            "   0.38154448  0.12510009 -0.28615724  0.02385278]\n",
            " [ 0.21736165  0.22999716 -0.20105046 -0.22700973  0.01617856  0.04088525\n",
            "  -0.24128984  0.20017575 -0.28358011  0.78141059]]\n"
          ]
        }
      ]
    },
    {
      "cell_type": "markdown",
      "source": [
        "5. Поменяйте 1 и 2 строки матрицы"
      ],
      "metadata": {
        "id": "Ls67TB9BDRU6"
      }
    },
    {
      "cell_type": "code",
      "source": [
        "import numpy as np\n",
        "z = np.arange(25).reshape(5,5)\n",
        "print(\"Матрица:\\n\", z)\n",
        "z[[1, 2]] = z[[2, 1]]\n",
        "print(\"\\nИзмененная матрица:\\n\", z)"
      ],
      "metadata": {
        "colab": {
          "base_uri": "https://localhost:8080/"
        },
        "id": "cBzqvmp_DT7n",
        "outputId": "475d59f0-9ce6-41e6-8830-8ad76f668e78"
      },
      "execution_count": 14,
      "outputs": [
        {
          "output_type": "stream",
          "name": "stdout",
          "text": [
            "Матрица:\n",
            " [[ 0  1  2  3  4]\n",
            " [ 5  6  7  8  9]\n",
            " [10 11 12 13 14]\n",
            " [15 16 17 18 19]\n",
            " [20 21 22 23 24]]\n",
            "\n",
            "Измененная матрица:\n",
            " [[ 0  1  2  3  4]\n",
            " [10 11 12 13 14]\n",
            " [ 5  6  7  8  9]\n",
            " [15 16 17 18 19]\n",
            " [20 21 22 23 24]]\n"
          ]
        }
      ]
    },
    {
      "cell_type": "markdown",
      "source": [
        "6. Дан массив 10x2 подеставлющий собой точки в декартовой системе координат, преобразовать в полярную"
      ],
      "metadata": {
        "id": "1xivRe96Dffd"
      }
    },
    {
      "cell_type": "code",
      "source": [
        "import numpy as np\n",
        "z = np.random.random((10, 2))\n",
        "print(\"Декартова система координат:\\n\", z)\n",
        "x = z[:, 0]\n",
        "y = z[:, 1]\n",
        "r = np.sqrt(x ** 2 + y ** 2)\n",
        "phi = np.arctan2(y, x)\n",
        "pz = np.column_stack((r, phi))\n",
        "print(\"\\nПолярные координаты:\\n\", pz)"
      ],
      "metadata": {
        "colab": {
          "base_uri": "https://localhost:8080/"
        },
        "id": "_xHcmtD1Diny",
        "outputId": "9ad25f2e-5e8b-496a-9a98-4befb70c7dff"
      },
      "execution_count": 24,
      "outputs": [
        {
          "output_type": "stream",
          "name": "stdout",
          "text": [
            "Декартова система координат:\n",
            " [[0.02424196 0.30088379]\n",
            " [0.74902647 0.39839636]\n",
            " [0.30870816 0.26149599]\n",
            " [0.80839804 0.68117104]\n",
            " [0.91693478 0.102198  ]\n",
            " [0.47027955 0.2057255 ]\n",
            " [0.2512386  0.71484294]\n",
            " [0.52033938 0.25432932]\n",
            " [0.97777371 0.64025533]\n",
            " [0.52541406 0.29255434]]\n",
            "\n",
            "Полярные координаты:\n",
            " [[0.30185878 1.4904008 ]\n",
            " [0.84838689 0.48882949]\n",
            " [0.40457493 0.70278789]\n",
            " [1.05711937 0.70019301]\n",
            " [0.9226125  0.11099801]\n",
            " [0.51330872 0.41237153]\n",
            " [0.7577079  1.23282155]\n",
            " [0.57916878 0.45462803]\n",
            " [1.16874647 0.57974868]\n",
            " [0.60137174 0.50805446]]\n"
          ]
        }
      ]
    },
    {
      "cell_type": "markdown",
      "source": [
        " 7. Заменить максимальный элемент массива на ноль"
      ],
      "metadata": {
        "id": "SGF0v6UQD1Tk"
      }
    },
    {
      "cell_type": "code",
      "source": [
        "import numpy as np\n",
        "z = np.random.random(10)\n",
        "print(\"Массив:\\n\", z)\n",
        "max = np.argmax(z)\n",
        "print(\"\\nИндекс максимального элемента:\", max)\n",
        "z[max] = 0\n",
        "print(\"\\nИзмененный массив:\\n\", z)"
      ],
      "metadata": {
        "colab": {
          "base_uri": "https://localhost:8080/"
        },
        "id": "PCmTTySWD2iV",
        "outputId": "f110c0d0-035d-4350-82fe-831082bbc770"
      },
      "execution_count": 25,
      "outputs": [
        {
          "output_type": "stream",
          "name": "stdout",
          "text": [
            "Массив:\n",
            " [0.78816781 0.79330728 0.89559086 0.83076708 0.26067994 0.57920418\n",
            " 0.96009053 0.85497223 0.13195195 0.85986307]\n",
            "\n",
            "Индекс максимального элемента: 6\n",
            "\n",
            "Измененный массив:\n",
            " [0.78816781 0.79330728 0.89559086 0.83076708 0.26067994 0.57920418\n",
            " 0.         0.85497223 0.13195195 0.85986307]\n"
          ]
        }
      ]
    },
    {
      "cell_type": "markdown",
      "source": [
        "8. Дан массив, добавить 1 к каждому элементу с индексом, заданным в другом массиве. Добавление производиться только 1 раз"
      ],
      "metadata": {
        "id": "ksx7WCvDEFSo"
      }
    },
    {
      "cell_type": "code",
      "source": [
        "import numpy as np\n",
        "z = np.ones(10)\n",
        "i = np.random.randint(0,len(z),20)\n",
        "print(\"Массив:\\n\", z)\n",
        "print(\"\\nМассив индексов:\\n\", i)\n",
        "unique = np.unique(i)\n",
        "z[unique] += 1\n",
        "print(\"\\nИзмененный массив:\\n\", z)"
      ],
      "metadata": {
        "colab": {
          "base_uri": "https://localhost:8080/"
        },
        "id": "AX1NfRyXEIN1",
        "outputId": "818298ab-d3ed-4957-968e-492f967cd7e7"
      },
      "execution_count": 17,
      "outputs": [
        {
          "output_type": "stream",
          "name": "stdout",
          "text": [
            "Массив:\n",
            " [1. 1. 1. 1. 1. 1. 1. 1. 1. 1.]\n",
            "\n",
            "Массив индексов:\n",
            " [4 8 6 2 8 3 5 8 9 2 8 8 6 1 4 6 5 3 3 9]\n",
            "\n",
            "Измененный массив:\n",
            " [1. 2. 2. 2. 2. 2. 2. 1. 2. 2.]\n"
          ]
        }
      ]
    },
    {
      "cell_type": "markdown",
      "source": [
        "9. Дан вектор [1, 2, 3, 4, 5], построить новый вектор с тремя нулями между каждым значением"
      ],
      "metadata": {
        "id": "bFOJATGtEg4J"
      }
    },
    {
      "cell_type": "code",
      "source": [
        "import numpy as np\n",
        "z = np.array([1,2,3,4,5])\n",
        "print(\"Вектор:\\n\", z)\n",
        "x = np.zeros(len(z) + (len(z) - 1) * 3)\n",
        "x[::4] = z\n",
        "print(\"\\nНовый вектор:\\n\", x)"
      ],
      "metadata": {
        "colab": {
          "base_uri": "https://localhost:8080/"
        },
        "id": "q-7pLaAuEkG6",
        "outputId": "a3d9884b-2a3b-4d41-9e87-205b92c266b2"
      },
      "execution_count": 18,
      "outputs": [
        {
          "output_type": "stream",
          "name": "stdout",
          "text": [
            "Вектор:\n",
            " [1 2 3 4 5]\n",
            "\n",
            "Новый вектор:\n",
            " [1. 0. 0. 0. 2. 0. 0. 0. 3. 0. 0. 0. 4. 0. 0. 0. 5.]\n"
          ]
        }
      ]
    },
    {
      "cell_type": "markdown",
      "source": [
        "10. Найти ближайшее к заданному значению число в заданном массиве"
      ],
      "metadata": {
        "id": "Ya0sCTa2ErVv"
      }
    },
    {
      "cell_type": "code",
      "source": [
        "import numpy as np\n",
        "z = np.arange(100)\n",
        "v = np.random.uniform(0,100)\n",
        "print(\"Массив:\\n\", z)\n",
        "print(\"\\nЗаданное значение:\", v)\n",
        "x = np.fabs(z - v).argmin()\n",
        "y = z[x]\n",
        "print(\"\\nБлижайшее значение для\", v, \"=\", y)"
      ],
      "metadata": {
        "colab": {
          "base_uri": "https://localhost:8080/"
        },
        "id": "M9H_ZJw3EuMS",
        "outputId": "d63275eb-9ccd-42ae-8302-b43525e3cbb6"
      },
      "execution_count": 20,
      "outputs": [
        {
          "output_type": "stream",
          "name": "stdout",
          "text": [
            "Массив:\n",
            " [ 0  1  2  3  4  5  6  7  8  9 10 11 12 13 14 15 16 17 18 19 20 21 22 23\n",
            " 24 25 26 27 28 29 30 31 32 33 34 35 36 37 38 39 40 41 42 43 44 45 46 47\n",
            " 48 49 50 51 52 53 54 55 56 57 58 59 60 61 62 63 64 65 66 67 68 69 70 71\n",
            " 72 73 74 75 76 77 78 79 80 81 82 83 84 85 86 87 88 89 90 91 92 93 94 95\n",
            " 96 97 98 99]\n",
            "\n",
            "Заданное значение: 17.381149639071005\n",
            "\n",
            "Ближайшее значение для 17.381149639071005 = 17\n"
          ]
        }
      ]
    }
  ]
}
