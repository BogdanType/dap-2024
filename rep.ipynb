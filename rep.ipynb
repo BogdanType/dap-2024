{
  "nbformat": 4,
  "nbformat_minor": 0,
  "metadata": {
    "colab": {
      "provenance": [],
      "authorship_tag": "ABX9TyM2hFeuDXmL27qL5LU6l8VW",
      "include_colab_link": true
    },
    "kernelspec": {
      "name": "python3",
      "display_name": "Python 3"
    },
    "language_info": {
      "name": "python"
    }
  },
  "cells": [
    {
      "cell_type": "markdown",
      "metadata": {
        "id": "view-in-github",
        "colab_type": "text"
      },
      "source": [
        "<a href=\"https://colab.research.google.com/github/BogdanType/dap-2024/blob/main/rep.ipynb\" target=\"_parent\"><img src=\"https://colab.research.google.com/assets/colab-badge.svg\" alt=\"Open In Colab\"/></a>"
      ]
    },
    {
      "cell_type": "markdown",
      "source": [
        "\n",
        "#Отчет о выполненной работе (лаб.1)\n",
        "\n",
        "1. Была создана учетная запись GitHub [MyProfile](https://github.com/BogdanType)\n",
        "2. Был выполнен форк репозитория [Chebotarevsa](https://github.com/chebotarevsa/dap-2024)\n",
        "3. Была создана учетная запись в ***Google Colab*** и настроена интеграция с ***GitHub***\n",
        "4. Был выполнен отчет в ***Google Colab*** используя:\n",
        "* Заголовки\n",
        "  * Списки:\n",
        "    * Нумерованные\n",
        "    * Не нумерованные\n",
        "* Форматированный текст\n",
        "* Ссылки\n",
        "5. Отчёт был сохранен в репозиторий [MyProfile](https://github.com/BogdanType/dap-2024) в директории ./les01\n",
        "6. Был создан pull request с названием <1> <12002208> <Каськов Богдан Юрьевич> в репозиторий [Chebotarevsa](https://github.com/chebotarevsa/dap-2024)\n",
        "7. Была сдана работа в системе [\"Пегас\"](https://pegas.bsuedu.ru/course/view.php?id=21784), в отчете указана ссылка на pull request\n",
        "\n",
        "~~«Не дразни собаки, и лаять не станет»~~\n",
        "\n",
        "**Вывод**: в ходе выполнения данной лабораторной работы были получены навыки использования GitHub и был ознакомлен с Google Colab и разметкой Markdown.\n",
        "\n",
        "\n"
      ],
      "metadata": {
        "id": "h-NGif9AZ0s6"
      }
    }
  ]
}